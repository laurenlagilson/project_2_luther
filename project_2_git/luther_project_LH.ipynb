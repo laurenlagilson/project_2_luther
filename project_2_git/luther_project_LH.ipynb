{
 "cells": [
  {
   "cell_type": "markdown",
   "metadata": {
    "heading_collapsed": true
   },
   "source": [
    "# Import Libraries"
   ]
  },
  {
   "cell_type": "code",
   "execution_count": null,
   "metadata": {
    "hidden": true
   },
   "outputs": [],
   "source": [
    "import numpy as np\n",
    "import pandas as pd\n",
    "import matplotlib.pyplot as plt\n",
    "import seaborn as sns\n",
    "\n",
    "import requests\n",
    "from bs4 import BeautifulSoup \n",
    "from selenium import webdriver\n",
    "from selenium.webdriver.common.keys import Keys \n",
    "\n",
    "import pickle\n",
    "import re\n",
    "import time\n",
    "import os \n",
    "import datetime\n",
    "\n",
    "import patsy\n",
    "import scipy.stats as stats\n",
    "\n",
    "import statsmodels.api as sm\n",
    "import statsmodels.formula.api as smf\n",
    "\n",
    "from sklearn import preprocessing\n",
    "from sklearn.linear_model import LinearRegression, Ridge, Lasso\n",
    "from sklearn.model_selection import train_test_split, KFold\n",
    "from sklearn.preprocessing import StandardScaler\n",
    "from sklearn.metrics import r2_score\n",
    "\n",
    "%matplotlib inline"
   ]
  },
  {
   "cell_type": "markdown",
   "metadata": {
    "hidden": true
   },
   "source": [
    "---"
   ]
  },
  {
   "cell_type": "markdown",
   "metadata": {},
   "source": [
    "# Define functions"
   ]
  },
  {
   "cell_type": "markdown",
   "metadata": {
    "heading_collapsed": true
   },
   "source": [
    "## Web Scraping & Cleaning functions"
   ]
  },
  {
   "cell_type": "code",
   "execution_count": null,
   "metadata": {
    "hidden": true
   },
   "outputs": [],
   "source": [
    "def date_time(date):\n",
    "    ''' Make Date data into datetimeformat'''\n",
    "    date_str = date\n",
    "    date_dt = datetime.strptime(date_str, '%d %b %Y')\n",
    "    return date_dt"
   ]
  },
  {
   "cell_type": "code",
   "execution_count": null,
   "metadata": {
    "hidden": true
   },
   "outputs": [],
   "source": [
    "def strip_spaces(string):\n",
    "    ''' Strips all spaces within a string'''\n",
    "    strip = string.replace(\" \", \"\")\n",
    "    return strip"
   ]
  },
  {
   "cell_type": "code",
   "execution_count": null,
   "metadata": {
    "hidden": true
   },
   "outputs": [],
   "source": [
    "def remove_v(string):\n",
    "    ''' STATISTICS:\n",
    "    \n",
    "    Removes \"v\" from Opposition column in Dataframe.\n",
    "    \n",
    "    Arg: string of 'v Opposition Name'\n",
    "    Returns: Opposition Name\n",
    "    '''\n",
    "    \n",
    "    split = string.split()\n",
    "    del split[0]\n",
    "    split = ''.join(split)\n",
    "    return split "
   ]
  },
  {
   "cell_type": "code",
   "execution_count": null,
   "metadata": {
    "hidden": true
   },
   "outputs": [],
   "source": [
    "def get_stats(page_nums):\n",
    "    ''' Uses pandas to read tables from a URL with multiple pages. Cleans each table to return data needed.\n",
    "    \n",
    "    Args: list of page numbers\n",
    "    Returns: 1 dataframe of each table obtained from each URL with appropriate data needed.\n",
    "    \n",
    "    '''\n",
    "    url= \"http://stats.espnscrum.com/statsguru/rugby/stats/index.html?class=1;filter=advanced;home_or_away=1;home_or_away=2;home_or_away=3;orderby=date;page={};result=1;result=2;result=3;spanmax1=jan+2019;spanmax2=1+jan+2019;spanmin1=jan+2000;spanmin2=1+jan+2000;spanval1=span;spanval2=span;team=1;template=results;type=team;view=match\"\n",
    "    dfs = []\n",
    "    \n",
    "    for page in page_nums:\n",
    "        num_page = url.format(page)\n",
    "        table = pd.read_html(num_page)\n",
    "        correct_table = table[3]\n",
    "        correct_table = clean_stats(correct_table)\n",
    "        dfs.append(correct_table)\n",
    "        \n",
    "    return pd.concat(dfs).reset_index()"
   ]
  },
  {
   "cell_type": "code",
   "execution_count": null,
   "metadata": {
    "hidden": true
   },
   "outputs": [],
   "source": [
    "home_ground = \"Twickenham\"\n",
    "def home_away(ground):\n",
    "    '''STATISTICS:\n",
    "    \n",
    "    Determines whether a match was played at home or away. \n",
    "    Twickenham is the Home Ground for England.\n",
    "    \n",
    "    Arg: Ground at which match was played\n",
    "    Returns: Whether ground is Home or Away\n",
    "    '''\n",
    "    \n",
    "    if ground == home_ground:\n",
    "        return \"Home\"\n",
    "    else: \n",
    "        return \"Away\""
   ]
  },
  {
   "cell_type": "code",
   "execution_count": null,
   "metadata": {
    "hidden": true
   },
   "outputs": [],
   "source": [
    "def find_year(string):\n",
    "    ''' STATISTICS:\n",
    "    \n",
    "    Isolate Year from Date string. \n",
    "    \n",
    "    Arg: Full Written Date\n",
    "    Returns: Year\n",
    "    '''  \n",
    "    \n",
    "    split = string.split()\n",
    "    return split[-1]"
   ]
  },
  {
   "cell_type": "code",
   "execution_count": null,
   "metadata": {
    "hidden": true
   },
   "outputs": [],
   "source": [
    "def clean_stats(correct_table):\n",
    "    ''' STATISTICS:\n",
    "    \n",
    "    Clean each dataframe obtained from ESPN StatsGuru Page.\n",
    "    - Cleans Oppositions format\n",
    "    - Determines if Game is Home or Away\n",
    "    - Removes unnecessary columns\n",
    "    - Creates Year of Game Column\n",
    "    \n",
    "    Arg: correct table from ESPEN StatsGuru\n",
    "    '''\n",
    "\n",
    "    correct_table[\"Countries\"] = correct_table[\"Opposition\"].apply(remove_v)\n",
    "    correct_table[\"Countries\"] = correct_table[\"Countries\"].apply(strip_spaces)\n",
    "    correct_table[\"Where\"] = correct_table[\"Ground\"].apply(home_away)\n",
    "    correct_table.drop(['Team', 'Result', 'Diff', 'Pens', 'Drop', 'Unnamed: 9', 'Unnamed: 13', 'Opposition', 'Ground'], axis=1, inplace=True)\n",
    "    correct_table[\"Year\"] = correct_table[\"Match Date\"].apply(find_year)\n",
    "    correct_table['Match Date'] = correct_table['Match Date'].apply(date_time)\n",
    "    correct_table.columns = correct_table.columns.str.replace(' ', '')\n",
    "    \n",
    "    return(correct_table)"
   ]
  },
  {
   "cell_type": "code",
   "execution_count": null,
   "metadata": {
    "hidden": true
   },
   "outputs": [],
   "source": [
    "def strip_letters(string):\n",
    "    '''WORLD RANKINGS\n",
    "    Strips the country codes from \"Teams\" column in dataframe and then strips spaces from double worded countries\n",
    "    \n",
    "    Arg: String in \"Team\" column\n",
    "    Example Input: \"New Zealand NZL\"\n",
    "    Example Output: \"NewZealand\"\n",
    "    \n",
    "    '''\n",
    "    split = string.split()\n",
    "    split.pop()\n",
    "    split = ' '.join(split)\n",
    "    split = strip_spaces(split)\n",
    "    return split"
   ]
  },
  {
   "cell_type": "code",
   "execution_count": null,
   "metadata": {
    "hidden": true
   },
   "outputs": [],
   "source": [
    "def clean_dataframe(dataframe):\n",
    "    '''WORLD RANKINGS:\n",
    "    \n",
    "    Cleans each dataframe that is obtained from World Rankings Page.\n",
    "    - Removes unnecessary columns\n",
    "    - Gives columns appropriate headers\n",
    "    - Adds column for relevant year of Ranking\n",
    "    - Cleans column of Team Name\n",
    "    \n",
    "    Arg: dataframe for my_years\n",
    "    \n",
    "    '''\n",
    "    dataframe = dataframe.drop([1,3,4,5], axis=1)\n",
    "    dataframe.columns = dataframe.iloc[0]\n",
    "    dataframe = dataframe[1:]\n",
    "    dataframe[\"Year\"] = int(year)\n",
    "    dataframe[\"Countries\"] = dataframe[\"Teams\"].apply(strip_letters)\n",
    "    dataframe = dataframe.drop([\"Teams\"], axis = 1)\n",
    "    \n",
    "    return pd.DataFrame(dataframe)"
   ]
  },
  {
   "cell_type": "code",
   "execution_count": null,
   "metadata": {
    "hidden": true
   },
   "outputs": [],
   "source": [
    "def header_list(table):\n",
    "    '''COACHES:\n",
    "    Creates list of headers from html table.\n",
    "    \n",
    "    Arg: Table in html script\n",
    "    \n",
    "    ''' \n",
    "    header = table.find_all('th')\n",
    "    header_vars = [i.text for i in header]\n",
    "    header_list = [str.strip(i) for i in header_vars]\n",
    "    \n",
    "    return list(header_list)"
   ]
  },
  {
   "cell_type": "code",
   "execution_count": null,
   "metadata": {
    "hidden": true
   },
   "outputs": [],
   "source": [
    "def clean_list(list_item):\n",
    "    '''COACHES:\n",
    "    Cleans list item obtained from Wikipedia table and returns a clean list of Coaches data\n",
    "    \n",
    "    Arg: List of items in table\n",
    "    '''\n",
    "    \n",
    "    clean_list = []\n",
    "    \n",
    "    for i in list_item:\n",
    "        i = str.strip(i) # Remove all white spaces \n",
    "    \n",
    "        if \"000000\" in i: # Remove all numbers up until the '♠'\n",
    "            sp_index = i.find('♠')\n",
    "            remove_zeros = i.replace(i[:sp_index+1], '')\n",
    "            clean_list.append(remove_zeros)\n",
    "        elif \"[\" in i: # Remove references\n",
    "            pattern = re.compile(\"^.*\\[.*\\]$\")\n",
    "            clean_string = re.sub(r'\\[.*\\]', r'', i)\n",
    "            clean_list.append(clean_string)\n",
    "        else:\n",
    "            clean_list.append(i)\n",
    "    \n",
    "    return clean_list"
   ]
  },
  {
   "cell_type": "code",
   "execution_count": null,
   "metadata": {
    "hidden": true
   },
   "outputs": [],
   "source": [
    "def date_split_start(date):\n",
    "    ''' COACHES:\n",
    "    Splits a date range to return the first date in datetime format'''\n",
    "    \n",
    "    if date == '20 November 2015 – present':\n",
    "        date = date.replace('20 November 2015 – present', '20 November 2015 – 2 February 2019')\n",
    "    else:\n",
    "        date = date\n",
    "    \n",
    "    split = date.split()\n",
    "    first = ' '.join(split[:3])\n",
    "    first = datetime.strptime(first, '%d %B %Y')\n",
    "    return first"
   ]
  },
  {
   "cell_type": "code",
   "execution_count": null,
   "metadata": {
    "hidden": true
   },
   "outputs": [],
   "source": [
    "def date_split_end(date):\n",
    "    ''' COACHES:\n",
    "    Splits a date range to return the second date in datetime format'''\n",
    "    \n",
    "    if date == '20 November 2015 – present':\n",
    "        date = date.replace('20 November 2015 – present', '20 November 2015 – 2 February 2019')\n",
    "    else:\n",
    "        date = date\n",
    "    \n",
    "    split = date.split()\n",
    "    end = ' '.join(split[-3:])\n",
    "    end = datetime.strptime(end, '%d %B %Y')\n",
    "    return end"
   ]
  },
  {
   "cell_type": "code",
   "execution_count": null,
   "metadata": {
    "hidden": true
   },
   "outputs": [],
   "source": [
    "def clean_coaches(dataframe):\n",
    "    '''COACHES: \n",
    "    Cleans coaches dataframe to return needed columns and coaches for\n",
    "    date range 2000-2019\n",
    "    \n",
    "    Arg: Dataframe\n",
    "    '''\n",
    "    dataframe.drop([\"Tests\", \"Won\", \"Drew\", \"Lost\"], axis=1, inplace=True)\n",
    "    dataframe.drop([0,1,2,3,4,5,6,7,8], axis='rows', inplace=True)\n",
    "    dataframe.reset_index(drop=True)\n",
    "    \n",
    "    dataframe[\"start\"] = dataframe[\"Tenure\"].apply(date_split_start)\n",
    "    dataframe[\"end\"] = dataframe[\"Tenure\"].apply(date_split_end)\n",
    "    \n",
    "    dataframe.drop([\"Tenure\"], axis=1, inplace=True)\n",
    "    dataframe.columns = dataframe.columns.str.replace(' ', '')\n",
    "    \n",
    "    return dataframe"
   ]
  },
  {
   "cell_type": "code",
   "execution_count": null,
   "metadata": {
    "hidden": true
   },
   "outputs": [],
   "source": [
    "def change_year(date):\n",
    "    ''' Changes date to 2004 if year is prior to 2004\n",
    "    Args: date(Year)\n",
    "    '''\n",
    "    \n",
    "    if int(date) <2004:\n",
    "        return 2004\n",
    "    else:\n",
    "        return date"
   ]
  },
  {
   "cell_type": "markdown",
   "metadata": {
    "hidden": true
   },
   "source": [
    "---"
   ]
  },
  {
   "cell_type": "markdown",
   "metadata": {
    "heading_collapsed": true
   },
   "source": [
    "## Modelling functions"
   ]
  },
  {
   "cell_type": "code",
   "execution_count": null,
   "metadata": {
    "hidden": true
   },
   "outputs": [],
   "source": [
    "def split_data(dataframe, y_column):\n",
    "    ''' Takes in dataframe and splits into 80% training and 20% testing data'''\n",
    "\n",
    "    X, y = dataframe.drop(y_column, axis=1), dataframe[y_column]\n",
    "    X_train, X_hold_out, y_train, y_hold_out = train_test_split(X, y, test_size=.2, random_state=27) # 80% Train 20% Test\n",
    "    kf = KFold(n_splits=5, shuffle=True, random_state = 27)"
   ]
  },
  {
   "cell_type": "code",
   "execution_count": null,
   "metadata": {
    "hidden": true
   },
   "outputs": [],
   "source": [
    "def reg_plot(x, y):\n",
    "    ''' Takes in all of the X values and Y predictor '''\n",
    "    \n",
    "    plt.figure(figsize=(15, 5))\n",
    "    \n",
    "    lr = LinearRegression()\n",
    "    lr.fit(x,y)\n",
    "    pred = lr.predict(x)\n",
    "    \n",
    "    # Residual plot\n",
    "    plt.subplot(1, 2, 1)\n",
    "    res = y - pred\n",
    "    plt.scatter(pred, res)\n",
    "    plt.title(\"Residual plot\")\n",
    "    plt.xlabel(\"prediction\")\n",
    "    plt.ylabel(\"residuals\")\n",
    "    \n",
    "    # QQ plot\n",
    "    plt.subplot(1, 2, 2)\n",
    "    stats.probplot(res, dist=\"norm\", plot=plt)\n",
    "    plt.title(\"Normal Q-Q plot\")"
   ]
  },
  {
   "cell_type": "code",
   "execution_count": null,
   "metadata": {
    "hidden": true
   },
   "outputs": [],
   "source": [
    "def lin_reg(dataframe, predictor_col):\n",
    "    \n",
    "    X, y = dataframe.drop(predictor_col, axis=1), dataframe[predictor_col]\n",
    "    \n",
    "    X, X_test, y, y_test = train_test_split(X, y, test_size=.2, random_state=27)\n",
    "    X, y = np.array(X), np.array(y)\n",
    "    \n",
    "    kf = KFold(n_splits=5, shuffle=True, random_state = 27)\n",
    "    cv_val_r2 = []\n",
    "    train_r2 = []\n",
    "\n",
    "    for train, val in kf.split(X, y):\n",
    "\n",
    "        X_train, y_train = X[train], y[train]\n",
    "        X_val, y_val = X[val], y[val]\n",
    "\n",
    "        lm = LinearRegression()\n",
    "        lm.fit(X_train, y_train)\n",
    "        train_r2.append(lm.score(X_train, y_train))\n",
    "        cv_val_r2.append(lm.score(X_val, y_val))\n",
    "\n",
    "\n",
    "    print(f\"Mean of Train Scores: {np.mean(train_r2):.3f}\")\n",
    "    print(f\"Mean of Linear Regression Scores: {np.mean(cv_val_r2):.3f}\")"
   ]
  },
  {
   "cell_type": "code",
   "execution_count": null,
   "metadata": {
    "hidden": true
   },
   "outputs": [],
   "source": [
    "def ridge_reg(X, y, columns):\n",
    "    \n",
    "    X, y = np.array(X), np.array(y)\n",
    "    \n",
    "    alpha_list = [0.001, 0.01, 0.1,1,10,100,1000,10000,100000, 1000000]\n",
    "    ridge_train_r2 = []\n",
    "    ridge_val_r2 = []\n",
    "    differences = []\n",
    "    ridge_means = []\n",
    "\n",
    "    for alp in alpha_list:\n",
    "        for train, val in kf.split(X, y):\n",
    "\n",
    "            X_train, y_train = X[train], y[train]\n",
    "            X_val, y_val = X[val], y[val]\n",
    "\n",
    "            lm_reg = Ridge(alpha=alp)\n",
    "\n",
    "            # Ridge Scale\n",
    "            scaler = StandardScaler()\n",
    "            X_train_scaled = scaler.fit_transform(X_train)\n",
    "            X_val_scaled = scaler.transform(X_val)\n",
    "\n",
    "            lm_reg.fit(X_train_scaled, y_train)\n",
    "            ridge_train_r2.append(lm_reg.score(X_train_scaled, y_train))\n",
    "            ridge_val_r2.append(lm_reg.score(X_val_scaled, y_val))\n",
    "\n",
    "            difference = np.mean(ridge_train_r2) - np.mean(ridge_val_r2)\n",
    "        \n",
    "        ridge_means.append(np.mean(ridge_val_r2))\n",
    "        best_mean = max(ridge_means)\n",
    "            \n",
    "    max_in = 0\n",
    "    max_mean = 0\n",
    "    for i, l in enumerate(ridge_means):\n",
    "        if l > max_mean:\n",
    "            max_mean = l\n",
    "            max_in = i\n",
    "    best_alpha = alpha_list[max_in]\n",
    "    print(f\"Best Alpha: {best_alpha}\")\n",
    "    \n",
    "    ridge_model = Ridge(alpha=best_alpha)\n",
    "    ridge_model.fit(X_train_scaled, y_train)\n",
    "    train_r2 = ridge_model.score(X_train_scaled, y_train)\n",
    "    val_r2 = ridge_model.score(X_val_scaled, y_val)\n",
    "    \n",
    "    print(f\"Train r2: {train_r2}\")\n",
    "    print(f\"Val r2: {val_r2}\\n\")\n",
    "    print(list(zip(columns, ridge_model.coef_)))"
   ]
  },
  {
   "cell_type": "code",
   "execution_count": null,
   "metadata": {
    "hidden": true
   },
   "outputs": [],
   "source": [
    "def lasso_reg(X, y, columns):\n",
    "    \n",
    "    X, y = np.array(X), np.array(y)\n",
    "    \n",
    "    alpha_list = [0.001, 0.01, 0.1,1,10,100,1000,10000,100000, 1000000]\n",
    "    lasso_train_r2 = []\n",
    "    lasso_val_r2 = []\n",
    "    differences = []\n",
    "    lasso_means = []\n",
    "\n",
    "    for i, alp in enumerate(alpha_list):\n",
    "        for train, val in kf.split(X, y):\n",
    "\n",
    "            X_train, y_train = X[train], y[train] # Split training into train and val\n",
    "            X_val, y_val = X[val], y[val]\n",
    "\n",
    "            lm_lasso = Lasso(alpha=alp)\n",
    "\n",
    "            #Lasso Scale\n",
    "            scaler = StandardScaler()\n",
    "            X_train_scaled = scaler.fit_transform(X_train)\n",
    "            X_val_scaled = scaler.transform(X_val)\n",
    "\n",
    "            lm_lasso.fit(X_train_scaled, y_train)\n",
    "            \n",
    "            lasso_train_r2.append(lm_lasso.score(X_train_scaled, y_train))\n",
    "            lasso_val_r2.append(lm_lasso.score(X_val_scaled, y_val))\n",
    "\n",
    "            difference = np.mean(lasso_train_r2)- np.mean(lasso_val_r2)\n",
    "        \n",
    "        lasso_means.append(np.mean(lasso_val_r2))\n",
    "        best_mean = max(lasso_means)\n",
    "    \n",
    "    max_in = 0\n",
    "    max_mean = 0\n",
    "    for i, l in enumerate(lasso_means):\n",
    "        if l > max_mean:\n",
    "            max_mean = l\n",
    "            max_in = i\n",
    "    best_alpha = alpha_list[max_in]\n",
    "    print(f\"Best Alpha: {best_alpha}\\n\")\n",
    "    \n",
    "    lasso_model = Lasso(alpha=best_alpha)\n",
    "    lasso_model.fit(X_train_scaled, y_train)\n",
    "    train_r2 = lasso_model.score(X_train_scaled, y_train)\n",
    "    val_r2 = lasso_model.score(X_val_scaled, y_val)\n",
    "    \n",
    "    print(f\"Train r2: {train_r2}\")\n",
    "    print(f\"Val r2: {val_r2}\\n\")\n",
    "    print(list(zip(columns, lasso_model.coef_)))"
   ]
  },
  {
   "cell_type": "markdown",
   "metadata": {
    "hidden": true
   },
   "source": [
    "---"
   ]
  },
  {
   "cell_type": "markdown",
   "metadata": {},
   "source": [
    "# Obtain Data"
   ]
  },
  {
   "cell_type": "markdown",
   "metadata": {
    "heading_collapsed": true
   },
   "source": [
    "## England Statistics Data\n",
    "- Source: ESPN Stats Guru"
   ]
  },
  {
   "cell_type": "code",
   "execution_count": null,
   "metadata": {
    "hidden": true
   },
   "outputs": [],
   "source": [
    "page_nums = [1, 2, 3, 4, 5]\n",
    "rugby_stats = get_stats(page_nums)\n",
    "\n",
    "with open('rugby_stats.pickle', 'wb') as to_write:\n",
    "    pickle.dump(rugby_stats, to_write)"
   ]
  },
  {
   "cell_type": "markdown",
   "metadata": {
    "hidden": true
   },
   "source": [
    "---"
   ]
  },
  {
   "cell_type": "markdown",
   "metadata": {
    "heading_collapsed": true
   },
   "source": [
    "## World Rankings Data\n",
    "- Source: World Rugby"
   ]
  },
  {
   "cell_type": "code",
   "execution_count": null,
   "metadata": {
    "hidden": true
   },
   "outputs": [],
   "source": [
    "# Create list of Years from 2004 - 2019\n",
    "my_years = [2004]\n",
    "\n",
    "for year in my_years:\n",
    "    if year <= 2018:\n",
    "        year += 1\n",
    "        my_years.append(year)"
   ]
  },
  {
   "cell_type": "code",
   "execution_count": null,
   "metadata": {
    "hidden": true
   },
   "outputs": [],
   "source": [
    "dfs = []\n",
    "\n",
    "for year in my_years:\n",
    "    \n",
    "    # Use selenium to access each year of rankings on website\n",
    "    chromedriver = \"/Applications/chromedriver\"\n",
    "    os.environ[\"webdriver.chrome.driver\"] = chromedriver\n",
    "    \n",
    "    # Open webpage\n",
    "    driver = webdriver.Chrome(chromedriver)\n",
    "    driver.get(\"https://www.world.rugby/rankings/mru#!\")\n",
    "    \n",
    "    # Close cookies pop-up\n",
    "    element = driver.find_element_by_class_name(\"js-cookie-accept-button\")\n",
    "    element.click()\n",
    "    time.sleep(2)\n",
    "    \n",
    "    # Locate year drop down\n",
    "    element = driver.find_element_by_xpath('//div[@data-date-drop=\"year\"]')\n",
    "    element.click()\n",
    "    time.sleep(2)\n",
    "    \n",
    "    # Locate Year from list of years\n",
    "    element = driver.find_element_by_xpath('//li[@value={}]'.format(str(year)))\n",
    "    element.click()\n",
    "    time.sleep(2)\n",
    "    \n",
    "    # Access'Full Rankings'\n",
    "    element = driver.find_element_by_class_name(\"showMore\")\n",
    "    element.click()\n",
    "    \n",
    "    # Use BS to parse html\n",
    "    soup = BeautifulSoup(driver.page_source, 'html.parser')\n",
    "    soup.find(\"fullRankings\")\n",
    "    soup.find(class_=\"fullRankings\")\n",
    "    \n",
    "    # Create dataframe of World Rankings\n",
    "    rankings_df = pd.read_html(str(soup.find(class_=\"fullRankings\")))[0]\n",
    "    \n",
    "    # Clean dataframe using function \n",
    "    clean = pd.DataFrame(clean_dataframe(rankings_df))\n",
    "    \n",
    "    # Append to list\n",
    "    dfs.append(clean)\n",
    "    \n",
    "    # Close Window\n",
    "    driver.close()\n",
    "\n",
    "# Return 1 dataframe for all World Ranking Data & save for later\n",
    "final_rankings_df = pd.concat(dfs)\n",
    "with open('final_rankings_df.pickle', 'wb') as to_write:\n",
    "    pickle.dump(final_rankings_df, to_write)"
   ]
  },
  {
   "cell_type": "markdown",
   "metadata": {
    "hidden": true
   },
   "source": [
    "---"
   ]
  },
  {
   "cell_type": "markdown",
   "metadata": {
    "heading_collapsed": true
   },
   "source": [
    "## Coach Data \n",
    "- Source: Wikipedia"
   ]
  },
  {
   "cell_type": "code",
   "execution_count": null,
   "metadata": {
    "hidden": true
   },
   "outputs": [],
   "source": [
    "url = \"https://en.wikipedia.org/wiki/England_national_rugby_union_team\"\n",
    "response = requests.get(url)\n",
    "page = response.text\n",
    "soup = BeautifulSoup(page, \"lxml\")\n",
    "\n",
    "# Locate correct table & headers\n",
    "tables = soup.find_all(\"table\", class_=\"sortable wikitable\")\n",
    "coach_table = tables[1]\n",
    "headers_list = header_list(coach_table)\n",
    "\n",
    "# Locate data for each row in table & clean list\n",
    "td_values = tables[1].find_all('td')\n",
    "list_vars = [i.text for i in td_values]\n",
    "list_vars = clean_list(list_vars)\n",
    "\n",
    "# Group every 7 records into 1 item in a list\n",
    "records = lambda list_vars, n=7: [list_vars[i:i+n] for i in range(0, len(list_vars), n)]\n",
    "coaches_list = records(tuple(list_vars))\n",
    "\n",
    "# Create dataframe of Coaches from header_list and coaches_list\n",
    "coaches_df = pd.DataFrame(coaches_list, columns=headers_list)\n",
    "coaches_df = clean_coaches(coaches_df)\n",
    "with open('coaches_df.pickle', 'wb') as to_write:\n",
    "    pickle.dump(coaches_df, to_write)"
   ]
  },
  {
   "cell_type": "markdown",
   "metadata": {
    "hidden": true
   },
   "source": [
    "---"
   ]
  },
  {
   "cell_type": "markdown",
   "metadata": {},
   "source": [
    "# Assumptions & Alterations"
   ]
  },
  {
   "cell_type": "markdown",
   "metadata": {
    "heading_collapsed": true
   },
   "source": [
    "## Assumptions\n",
    "- As World Rankings data from 2000-2004 is unavailable, I'll make the assumption that the ranking prior to 2004 is the 2004 ranking."
   ]
  },
  {
   "cell_type": "code",
   "execution_count": null,
   "metadata": {
    "hidden": true
   },
   "outputs": [],
   "source": [
    "# Need to change 'Year' column to merge correct and assumed World Rankings\n",
    "rugby_stats[\"Year\"] = rugby_stats[\"Year\"].apply(change_year)\n",
    "rugby_stats['Year'] = rugby_stats['Year'].astype(int)"
   ]
  },
  {
   "cell_type": "code",
   "execution_count": null,
   "metadata": {
    "hidden": true,
    "scrolled": true
   },
   "outputs": [],
   "source": [
    "# Create dictionary of England World Ranking each Year\n",
    "england_rank = list(final_rankings_df.loc[final_rankings_df['Countries'] == \"England\"].Position)\n",
    "england_rank = dict(zip(my_years, england_rank))"
   ]
  },
  {
   "cell_type": "code",
   "execution_count": null,
   "metadata": {
    "hidden": true
   },
   "outputs": [],
   "source": [
    "# Create new 'England World Rank' column on Rankings df\n",
    "def eng_rank(year):\n",
    "    return england_rank[year]\n",
    "final_rankings_df[\"EnglandWorldRank\"] = final_rankings_df[\"Year\"].apply(eng_rank).astype(int)"
   ]
  },
  {
   "cell_type": "markdown",
   "metadata": {
    "hidden": true
   },
   "source": [
    "---"
   ]
  },
  {
   "cell_type": "markdown",
   "metadata": {
    "heading_collapsed": true
   },
   "source": [
    "## Merge Statistics and World Ranking Dataframes"
   ]
  },
  {
   "cell_type": "code",
   "execution_count": null,
   "metadata": {
    "hidden": true,
    "scrolled": true
   },
   "outputs": [],
   "source": [
    "# Merge and remove Year - as this is only used to correctly merge the world ranking data\n",
    "stats_rank = rugby_stats.merge(final_rankings_df, on=[\"Year\", \"Countries\"])\n",
    "stats_rank.drop(['Year'], axis=1, inplace=True)\n",
    "stats_rank.head()"
   ]
  },
  {
   "cell_type": "markdown",
   "metadata": {
    "hidden": true
   },
   "source": [
    "---"
   ]
  },
  {
   "cell_type": "markdown",
   "metadata": {
    "heading_collapsed": true
   },
   "source": [
    "## Add Coach Win Percentage Data"
   ]
  },
  {
   "cell_type": "markdown",
   "metadata": {
    "hidden": true
   },
   "source": [
    "- Merge Coach Win Percentage Data dependent on Match Date in range of each coach's tenure."
   ]
  },
  {
   "cell_type": "code",
   "execution_count": null,
   "metadata": {
    "hidden": true
   },
   "outputs": [],
   "source": [
    "stats_rank = stats_rank.assign(key=1)\n",
    "coaches_df = coaches_df.assign(key=1)\n",
    "rugby = pd.merge(stats_rank, coaches_df, on='key').drop('key',axis=1)\n",
    "rugby = rugby.query('MatchDate >= start and MatchDate <= end')"
   ]
  },
  {
   "cell_type": "markdown",
   "metadata": {
    "hidden": true
   },
   "source": [
    "---"
   ]
  },
  {
   "cell_type": "markdown",
   "metadata": {
    "heading_collapsed": true
   },
   "source": [
    "## Sort Columns & Shift Statistics"
   ]
  },
  {
   "cell_type": "code",
   "execution_count": null,
   "metadata": {
    "hidden": true
   },
   "outputs": [],
   "source": [
    "# Tidy up columns\n",
    "rugby.drop(['index', 'Name', 'start', 'end'], axis=1, inplace=True)"
   ]
  },
  {
   "cell_type": "code",
   "execution_count": null,
   "metadata": {
    "hidden": true
   },
   "outputs": [],
   "source": [
    "# Split date into Month and Year column\n",
    "def date_to_month(date):\n",
    "    month = (datetime.datetime.strptime(date, \"%Y-%m-%d\")).month\n",
    "    return month\n",
    "\n",
    "def date_to_year(date):\n",
    "    year = (datetime.datetime.strptime(date, \"%Y-%m-%d\")).year\n",
    "    return year\n",
    "\n",
    "rugby[\"Month\"] = rugby[\"MatchDate\"].astype(str).apply(date_to_month)\n",
    "rugby[\"Year\"] = rugby[\"MatchDate\"].astype(str).apply(date_to_year)"
   ]
  },
  {
   "cell_type": "code",
   "execution_count": null,
   "metadata": {
    "hidden": true
   },
   "outputs": [],
   "source": [
    "# Sort by date & add statistics columns\n",
    "rugby = rugby.sort_values('MatchDate').reset_index(drop=True)\n",
    "rugby[\"Average\"] = rugby['For'].expanding().mean().round(2).shift(1)\n",
    "rugby[[\"ConceededPrevGame\", \"TriesScoredPrevGame\", \"ConversionsPrevGame\"]] = (rugby[[\"Aga\", \"Tries\", \"Conv\"]].shift(1))\n",
    "rugby = rugby.dropna()\n",
    "rugby[[\"Position\", \"ConceededPrevGame\", \"TriesScoredPrevGame\", \"ConversionsPrevGame\", \"Winpercent\"]] = (rugby[[\"Position\", \"ConceededPrevGame\", \"TriesScoredPrevGame\", \"ConversionsPrevGame\", \"Winpercent\"]].astype(int))\n",
    "rugby.drop(['Aga', 'Tries', 'Conv', 'MatchDate'], axis=1, inplace=True)\n",
    "\n",
    "# Rename Columns \n",
    "rugby.rename(columns={'For': 'Score', 'Countries': 'Opponent', 'Position': 'OpponentWorldRanking', 'Average': 'AverageScorePriorToMatch'}, inplace=True)\n",
    "\n",
    "with open('rugby.pickle', 'wb') as to_write:\n",
    "    pickle.dump(rugby, to_write)"
   ]
  },
  {
   "cell_type": "markdown",
   "metadata": {
    "hidden": true
   },
   "source": [
    "---"
   ]
  },
  {
   "cell_type": "markdown",
   "metadata": {},
   "source": [
    "# Modelling"
   ]
  },
  {
   "cell_type": "markdown",
   "metadata": {
    "heading_collapsed": true
   },
   "source": [
    "## Feature Assessment"
   ]
  },
  {
   "cell_type": "code",
   "execution_count": null,
   "metadata": {
    "hidden": true
   },
   "outputs": [],
   "source": [
    "plt.figure(figsize=(8,6))\n",
    "sns.heatmap(rugby.corr(), cmap=\"seismic\", annot=True, vmin=-1, vmax=1);"
   ]
  },
  {
   "cell_type": "code",
   "execution_count": null,
   "metadata": {
    "hidden": true,
    "scrolled": true
   },
   "outputs": [],
   "source": [
    "sns.pairplot(rugby, diag_kind=\"kde\");"
   ]
  },
  {
   "cell_type": "markdown",
   "metadata": {
    "hidden": true
   },
   "source": [
    "- **Initial Observations:**\n",
    "- Opponent World Rank - biggest positive influencer on score.\n",
    "- Tries prev Game and Conversions prev Game very highly correlated\n",
    "- Score, Opponent World Ranking, Tries/Conv/Conceeded Prev Game all right skewed."
   ]
  },
  {
   "cell_type": "code",
   "execution_count": null,
   "metadata": {
    "hidden": true
   },
   "outputs": [],
   "source": [
    "# look at Tries vs Conversions in more detail\n",
    "X = rugby[['TriesScoredPrevGame']]\n",
    "y = rugby[['ConversionsPrevGame']]\n",
    "\n",
    "model = sm.OLS(y,X)\n",
    "fit = model.fit()\n",
    "fit.summary()"
   ]
  },
  {
   "cell_type": "markdown",
   "metadata": {
    "hidden": true
   },
   "source": [
    "- r2 of 0.936 and p-val of 0\n",
    "- Remove to reduce multicollinearity"
   ]
  },
  {
   "cell_type": "code",
   "execution_count": null,
   "metadata": {
    "hidden": true
   },
   "outputs": [],
   "source": [
    "rugby.drop(['ConversionsPrevGame'], axis=1, inplace=True)"
   ]
  },
  {
   "cell_type": "markdown",
   "metadata": {
    "hidden": true
   },
   "source": [
    "---"
   ]
  },
  {
   "cell_type": "markdown",
   "metadata": {
    "heading_collapsed": true
   },
   "source": [
    "## Regression 1"
   ]
  },
  {
   "cell_type": "code",
   "execution_count": null,
   "metadata": {
    "hidden": true
   },
   "outputs": [],
   "source": [
    "# Get all dummy variables\n",
    "rugby1 = rugby.join(pd.get_dummies(rugby[['Opponent', 'Where']], drop_first=True))\n",
    "rugby1.drop(['Opponent', 'Where'], axis=1, inplace=True)"
   ]
  },
  {
   "cell_type": "code",
   "execution_count": null,
   "metadata": {
    "hidden": true
   },
   "outputs": [],
   "source": [
    "X, y = rugby1.drop(\"Score\", axis=1), rugby1[\"Score\"]\n",
    "X_train, X_hold_out, y_train, y_hold_out = train_test_split(X, y, test_size=.2, random_state=27) # 80% Train 20% Test\n",
    "kf = KFold(n_splits=5, shuffle=True, random_state = 27)"
   ]
  },
  {
   "cell_type": "code",
   "execution_count": null,
   "metadata": {
    "hidden": true
   },
   "outputs": [],
   "source": [
    "reg_plot(X_train, y_train)"
   ]
  },
  {
   "cell_type": "markdown",
   "metadata": {
    "hidden": true
   },
   "source": [
    "- Residuals follow QQ plot, however outliers may be affecting residual plot"
   ]
  },
  {
   "cell_type": "code",
   "execution_count": null,
   "metadata": {
    "hidden": true
   },
   "outputs": [],
   "source": [
    "lin_reg(rugby1, \"Score\")"
   ]
  },
  {
   "cell_type": "markdown",
   "metadata": {
    "hidden": true
   },
   "source": [
    "- **RESULT**: Overfitting\n",
    "- **ACTION**: Try Ridge and LASSO Regressions to find most important features"
   ]
  },
  {
   "cell_type": "code",
   "execution_count": null,
   "metadata": {
    "hidden": true
   },
   "outputs": [],
   "source": [
    "columns = list(rugby1.drop(\"Score\", axis=1))\n",
    "ridge_reg(X_train, y_train, columns)"
   ]
  },
  {
   "cell_type": "code",
   "execution_count": null,
   "metadata": {
    "hidden": true
   },
   "outputs": [],
   "source": [
    "lasso_reg(X_train, y_train, columns)"
   ]
  },
  {
   "cell_type": "markdown",
   "metadata": {
    "hidden": true
   },
   "source": [
    "- **RESULT:** Both models still overfitting, LASSO zeroed EnglandWorldRank, TriesScoredPrevGame, ConceededPrevGame and a lot of the opponents.\n",
    "- **ACTION:** Remove these columns and try Linear Regression again. "
   ]
  },
  {
   "cell_type": "markdown",
   "metadata": {
    "hidden": true
   },
   "source": [
    "---"
   ]
  },
  {
   "cell_type": "markdown",
   "metadata": {
    "heading_collapsed": true
   },
   "source": [
    "## Regression 2"
   ]
  },
  {
   "cell_type": "code",
   "execution_count": null,
   "metadata": {
    "hidden": true
   },
   "outputs": [],
   "source": [
    "# Get dummies and remove columns \n",
    "rugby2 = rugby.join(pd.get_dummies(rugby[['Opponent', 'Where']], drop_first=True))\n",
    "rugby2.drop(['EnglandWorldRank', 'ConceededPrevGame','TriesScoredPrevGame', 'Opponent_Australia', 'Opponent_France', 'Opponent_Japan', 'Opponent_NewZealand', 'Opponent_Samoa', 'Opponent_Scotland', 'Opponent_SouthAfrica', 'Opponent_Tonga','Opponent_USA','Where','Opponent'], axis=1, inplace=True)"
   ]
  },
  {
   "cell_type": "code",
   "execution_count": null,
   "metadata": {
    "hidden": true
   },
   "outputs": [],
   "source": [
    "X, y = rugby2.drop(\"Score\", axis=1), rugby2[\"Score\"]\n",
    "X_train, X_hold_out, y_train, y_hold_out = train_test_split(X, y, test_size=.2, random_state=27) # 80% Train 20% Test\n",
    "kf = KFold(n_splits=5, shuffle=True, random_state = 27)"
   ]
  },
  {
   "cell_type": "code",
   "execution_count": null,
   "metadata": {
    "hidden": true,
    "scrolled": true
   },
   "outputs": [],
   "source": [
    "reg_plot(X_train, y_train)"
   ]
  },
  {
   "cell_type": "markdown",
   "metadata": {
    "hidden": true
   },
   "source": [
    "- Residuals a little more random and QQ residuals following QQ plot"
   ]
  },
  {
   "cell_type": "code",
   "execution_count": null,
   "metadata": {
    "hidden": true
   },
   "outputs": [],
   "source": [
    "lin_reg(rugby2, \"Score\")"
   ]
  },
  {
   "cell_type": "markdown",
   "metadata": {
    "hidden": true
   },
   "source": [
    "- **RESULT**: Decreased different in r2 values, but model still overfitting.\n",
    "- **ACTION**: Try LASSO and Ridge again."
   ]
  },
  {
   "cell_type": "code",
   "execution_count": null,
   "metadata": {
    "hidden": true
   },
   "outputs": [],
   "source": [
    "columns = list(rugby2.drop(\"Score\", axis=1))"
   ]
  },
  {
   "cell_type": "code",
   "execution_count": null,
   "metadata": {
    "hidden": true
   },
   "outputs": [],
   "source": [
    "lasso_reg(X_train, y_train, columns)"
   ]
  },
  {
   "cell_type": "code",
   "execution_count": null,
   "metadata": {
    "hidden": true
   },
   "outputs": [],
   "source": [
    "ridge_reg(X_train, y_train, columns)"
   ]
  },
  {
   "cell_type": "markdown",
   "metadata": {
    "hidden": true
   },
   "source": [
    "- **RESULT**: Both models still overfitting, Lasso has zeroed some more opponents.\n",
    "- **ACTION**: Simplify even more - remove all the opponents."
   ]
  },
  {
   "cell_type": "markdown",
   "metadata": {
    "hidden": true
   },
   "source": [
    "---"
   ]
  },
  {
   "cell_type": "markdown",
   "metadata": {
    "heading_collapsed": true
   },
   "source": [
    "## Regression 3"
   ]
  },
  {
   "cell_type": "code",
   "execution_count": null,
   "metadata": {
    "hidden": true
   },
   "outputs": [],
   "source": [
    "rugby3 = rugby.join(pd.get_dummies(rugby['Where'], drop_first=True))\n",
    "rugby3.drop(['EnglandWorldRank', 'AverageScorePriorToMatch','Opponent', 'Where'], axis=1, inplace=True)"
   ]
  },
  {
   "cell_type": "code",
   "execution_count": null,
   "metadata": {
    "hidden": true
   },
   "outputs": [],
   "source": [
    "X, y = rugby3.drop(\"Score\", axis=1), rugby3[\"Score\"]\n",
    "X_train, X_hold_out, y_train, y_hold_out = train_test_split(X, y, test_size=.2, random_state=27) # 80% Train 20% Test\n",
    "kf = KFold(n_splits=5, shuffle=True, random_state = 27)"
   ]
  },
  {
   "cell_type": "code",
   "execution_count": null,
   "metadata": {
    "hidden": true
   },
   "outputs": [],
   "source": [
    "reg_plot(X_train, y_train)"
   ]
  },
  {
   "cell_type": "code",
   "execution_count": null,
   "metadata": {
    "hidden": true
   },
   "outputs": [],
   "source": [
    "lin_reg(rugby3, 'Score')"
   ]
  },
  {
   "cell_type": "markdown",
   "metadata": {
    "hidden": true
   },
   "source": [
    "- **RESULT:** Better generalising but still 1.2 between r2s\n",
    "- **ACTION:** Ridge and LASSO again."
   ]
  },
  {
   "cell_type": "code",
   "execution_count": null,
   "metadata": {
    "hidden": true
   },
   "outputs": [],
   "source": [
    "columns = list(rugby3.drop(\"Score\", axis=1))"
   ]
  },
  {
   "cell_type": "code",
   "execution_count": null,
   "metadata": {
    "hidden": true
   },
   "outputs": [],
   "source": [
    "ridge_reg(X_train, y_train, columns)"
   ]
  },
  {
   "cell_type": "code",
   "execution_count": null,
   "metadata": {
    "hidden": true
   },
   "outputs": [],
   "source": [
    "lasso_reg(X_train, y_train, columns)"
   ]
  },
  {
   "cell_type": "markdown",
   "metadata": {
    "hidden": true
   },
   "source": [
    "- **RESULT:** Still overfitting. \n",
    "- **ACTION:** Go back and transform score."
   ]
  },
  {
   "cell_type": "markdown",
   "metadata": {
    "hidden": true
   },
   "source": [
    "---"
   ]
  },
  {
   "cell_type": "markdown",
   "metadata": {
    "heading_collapsed": true
   },
   "source": [
    "## Regression 4"
   ]
  },
  {
   "cell_type": "code",
   "execution_count": null,
   "metadata": {
    "hidden": true
   },
   "outputs": [],
   "source": [
    "rugby4 = rugby3"
   ]
  },
  {
   "cell_type": "code",
   "execution_count": null,
   "metadata": {
    "hidden": true
   },
   "outputs": [],
   "source": [
    "# Transform score\n",
    "rugby4[\"sqrtscore\"] = np.sqrt(rugby4[\"Score\"])\n",
    "rugby4.drop(\"Score\", axis=1, inplace=True)\n",
    "plt.hist(rugby4[\"sqrtscore\"]);"
   ]
  },
  {
   "cell_type": "code",
   "execution_count": null,
   "metadata": {
    "hidden": true
   },
   "outputs": [],
   "source": [
    "X, y = rugby4.drop(\"sqrtscore\", axis=1), rugby4[\"sqrtscore\"]\n",
    "X_train, X_hold_out, y_train, y_hold_out = train_test_split(X, y, test_size=.2, random_state=27) # 80% Train 20% Test\n",
    "kf = KFold(n_splits=5, shuffle=True, random_state = 27)"
   ]
  },
  {
   "cell_type": "code",
   "execution_count": null,
   "metadata": {
    "hidden": true
   },
   "outputs": [],
   "source": [
    "reg_plot(X_train, y_train)"
   ]
  },
  {
   "cell_type": "code",
   "execution_count": null,
   "metadata": {
    "hidden": true
   },
   "outputs": [],
   "source": [
    "lin_reg(rugby4, 'sqrtscore')"
   ]
  },
  {
   "cell_type": "markdown",
   "metadata": {
    "hidden": true
   },
   "source": [
    "- **RESULT:** r2 difference 0.94 but still overfitting.\n",
    "- **ACTION**: LASSO and Ridge"
   ]
  },
  {
   "cell_type": "code",
   "execution_count": null,
   "metadata": {
    "hidden": true
   },
   "outputs": [],
   "source": [
    "columns = list(rugby4.drop(\"sqrtscore\", axis=1))"
   ]
  },
  {
   "cell_type": "code",
   "execution_count": null,
   "metadata": {
    "hidden": true
   },
   "outputs": [],
   "source": [
    "ridge_reg(X_train, y_train, columns)"
   ]
  },
  {
   "cell_type": "code",
   "execution_count": null,
   "metadata": {
    "hidden": true
   },
   "outputs": [],
   "source": [
    "lasso_reg(X_train, y_train, columns)"
   ]
  },
  {
   "cell_type": "markdown",
   "metadata": {
    "hidden": true
   },
   "source": [
    "- **RESULT:** LASSO zeroed ConceededPrevGame and TriesScoredPrevGame - but less overfitting 0.5 difference in r2\n",
    "- **ACTION:** Remove ConceededPrevGame and TriesScoredPrevGame"
   ]
  },
  {
   "cell_type": "markdown",
   "metadata": {
    "hidden": true
   },
   "source": [
    "---"
   ]
  },
  {
   "cell_type": "markdown",
   "metadata": {
    "heading_collapsed": true
   },
   "source": [
    "## Regression 5"
   ]
  },
  {
   "cell_type": "code",
   "execution_count": null,
   "metadata": {
    "hidden": true
   },
   "outputs": [],
   "source": [
    "rugby5 = rugby4"
   ]
  },
  {
   "cell_type": "code",
   "execution_count": null,
   "metadata": {
    "hidden": true
   },
   "outputs": [],
   "source": [
    "rugby5.drop([\"TriesScoredPrevGame\", \"ConceededPrevGame\"], axis=1, inplace=True)"
   ]
  },
  {
   "cell_type": "code",
   "execution_count": null,
   "metadata": {
    "hidden": true
   },
   "outputs": [],
   "source": [
    "X, y = rugby5.drop(\"sqrtscore\", axis=1), rugby5[\"sqrtscore\"] # Full dataset\n",
    "\n",
    "X_train, X_hold_out, y_train, y_hold_out = train_test_split(X, y, test_size=.2, random_state=27) # 80% Train 20% Test\n",
    "\n",
    "kf = KFold(n_splits=5, shuffle=True, random_state = 27)"
   ]
  },
  {
   "cell_type": "code",
   "execution_count": null,
   "metadata": {
    "hidden": true
   },
   "outputs": [],
   "source": [
    "reg_plot(X_train, y_train)"
   ]
  },
  {
   "cell_type": "markdown",
   "metadata": {
    "hidden": true
   },
   "source": [
    "- Little change in residiual plot and QQ plot from rugby4"
   ]
  },
  {
   "cell_type": "code",
   "execution_count": null,
   "metadata": {
    "hidden": true
   },
   "outputs": [],
   "source": [
    "lin_reg(rugby5, 'sqrtscore')"
   ]
  },
  {
   "cell_type": "markdown",
   "metadata": {
    "hidden": true
   },
   "source": [
    "- Slight change in difference between r2 - 0.88 - still overfitting"
   ]
  },
  {
   "cell_type": "code",
   "execution_count": null,
   "metadata": {
    "hidden": true
   },
   "outputs": [],
   "source": [
    "columns = list(rugby5.drop(\"sqrtscore\", axis=1))"
   ]
  },
  {
   "cell_type": "code",
   "execution_count": null,
   "metadata": {
    "hidden": true
   },
   "outputs": [],
   "source": [
    "ridge_reg(X_train, y_train, columns)"
   ]
  },
  {
   "cell_type": "code",
   "execution_count": null,
   "metadata": {
    "hidden": true
   },
   "outputs": [],
   "source": [
    "lasso_reg(X_train, y_train, columns)"
   ]
  },
  {
   "cell_type": "markdown",
   "metadata": {
    "hidden": true
   },
   "source": [
    "- **RESULT:** LASSO no longer zeroed any more features and r2's remained the same as rugby4. Ridge model still overfits. LASSO gives best alpha as 0.1\n",
    "- **ACTION:** LASSO gives model - run on test data\n"
   ]
  },
  {
   "cell_type": "markdown",
   "metadata": {
    "hidden": true
   },
   "source": [
    "---"
   ]
  },
  {
   "cell_type": "markdown",
   "metadata": {
    "heading_collapsed": true
   },
   "source": [
    "## Run Model on Test Data"
   ]
  },
  {
   "cell_type": "code",
   "execution_count": null,
   "metadata": {
    "hidden": true
   },
   "outputs": [],
   "source": [
    "# Scale test data\n",
    "scaler = StandardScaler()\n",
    "X_train_scaled = scaler.fit_transform(X_train)\n",
    "X_hold_out_scaled = scaler.transform(X_hold_out)"
   ]
  },
  {
   "cell_type": "code",
   "execution_count": null,
   "metadata": {
    "hidden": true
   },
   "outputs": [],
   "source": [
    "# Run model & print coefficients\n",
    "lasso_model = Lasso(alpha=0.1)\n",
    "lasso_model.fit(X_train_scaled, y_train)\n",
    "list(zip(columns, (lasso_model.coef_).round(2)))"
   ]
  },
  {
   "cell_type": "code",
   "execution_count": null,
   "metadata": {
    "hidden": true
   },
   "outputs": [],
   "source": [
    "pred = lasso_model.predict(X_hold_out_scaled)"
   ]
  },
  {
   "cell_type": "code",
   "execution_count": null,
   "metadata": {
    "hidden": true
   },
   "outputs": [],
   "source": [
    "r2_score(y_hold_out**2, pred**2)"
   ]
  },
  {
   "cell_type": "code",
   "execution_count": null,
   "metadata": {
    "hidden": true
   },
   "outputs": [],
   "source": [
    "# Undo sqrt score\n",
    "y_hold2 = y_hold_out **2\n",
    "pred2 = pred **2\n",
    "\n",
    "# Calculate RMSE\n",
    "error = y_hold2 - pred2\n",
    "sumerr = (error**2).sum()\n",
    "mean = sumerr / len(y_hold_out)\n",
    "print(np.sqrt(mean).round(2))"
   ]
  },
  {
   "cell_type": "code",
   "execution_count": null,
   "metadata": {
    "hidden": true
   },
   "outputs": [],
   "source": [
    "# Plot predicted score against actual score\n",
    "plt.figure(figsize=(9,6))\n",
    "plt.scatter(pred**2, y_hold_out**2, alpha=0.6);\n",
    "plt.ylabel('Actual Score', size=14)\n",
    "plt.xlabel('Predicted Score', size=14)\n",
    "plt.title('Actual Score of Match against Model Predicted Score', size=14)\n",
    "plt.plot(np.linspace(0, 70, 10), np.linspace(0, 70, 10), color='r')\n",
    "plt.savefig('model.png');"
   ]
  },
  {
   "cell_type": "markdown",
   "metadata": {
    "hidden": true
   },
   "source": [
    "---"
   ]
  },
  {
   "cell_type": "markdown",
   "metadata": {
    "heading_collapsed": true
   },
   "source": [
    "# Make Prediction"
   ]
  },
  {
   "cell_type": "code",
   "execution_count": null,
   "metadata": {
    "hidden": true
   },
   "outputs": [],
   "source": [
    "# Create dataframe from upcoming match data & set predictor\n",
    "englanddict = {'OpponentWorldRanking': 2, 'CoachWinPerc': 80, 'Month' : 2,'Year' : 2019, 'Home': 0, 'sqrtscore': '?'}\n",
    "predictdf = pd.DataFrame([englanddict], columns=englanddict.keys())"
   ]
  },
  {
   "cell_type": "code",
   "execution_count": null,
   "metadata": {
    "hidden": true
   },
   "outputs": [],
   "source": [
    "X_predictor, y_predictor = predictdf.drop(\"sqrtscore\", axis=1), predictdf[\"sqrtscore\"] "
   ]
  },
  {
   "cell_type": "code",
   "execution_count": null,
   "metadata": {
    "hidden": true
   },
   "outputs": [],
   "source": [
    "# Scale X data\n",
    "X_train_scaled = scaler.fit_transform(X_train)\n",
    "X_pred_scaled = scaler.transform(X_predictor)"
   ]
  },
  {
   "cell_type": "code",
   "execution_count": null,
   "metadata": {
    "hidden": true
   },
   "outputs": [],
   "source": [
    "pred2 = float(lasso_model.predict(X_pred_scaled))\n",
    "score = pred2**2\n",
    "print(f\"Predicted Score: {score}\")"
   ]
  },
  {
   "cell_type": "markdown",
   "metadata": {
    "hidden": true
   },
   "source": [
    "---"
   ]
  },
  {
   "cell_type": "markdown",
   "metadata": {
    "heading_collapsed": true
   },
   "source": [
    "# Presentation"
   ]
  },
  {
   "cell_type": "code",
   "execution_count": null,
   "metadata": {
    "hidden": true
   },
   "outputs": [],
   "source": [
    "# England Score Distribution\n",
    "plt.figure(figsize=(9,6))\n",
    "plt.hist(rugby[\"Score\"]);\n",
    "plt.title(\"England Score Distribution since 2000\", size=14)\n",
    "plt.xlabel(\"England Score\", size=14)\n",
    "plt.ylabel(\"Number of Games with Score\", size=14);\n",
    "plt.savefig(\"scorehist.png\")"
   ]
  },
  {
   "cell_type": "code",
   "execution_count": null,
   "metadata": {
    "hidden": true
   },
   "outputs": [],
   "source": [
    "# Percentage of games scored less than 20 \n",
    "percentage = (rugby[rugby[\"Score\"] >= 20]).count()\n",
    "print(f\"{(136/218)*100}%\")"
   ]
  },
  {
   "cell_type": "markdown",
   "metadata": {
    "hidden": true
   },
   "source": [
    "---"
   ]
  }
 ],
 "metadata": {
  "kernelspec": {
   "display_name": "Python 3",
   "language": "python",
   "name": "python3"
  },
  "language_info": {
   "codemirror_mode": {
    "name": "ipython",
    "version": 3
   },
   "file_extension": ".py",
   "mimetype": "text/x-python",
   "name": "python",
   "nbconvert_exporter": "python",
   "pygments_lexer": "ipython3",
   "version": "3.7.0"
  },
  "toc": {
   "base_numbering": 1,
   "nav_menu": {},
   "number_sections": true,
   "sideBar": true,
   "skip_h1_title": false,
   "title_cell": "Table of Contents",
   "title_sidebar": "Contents",
   "toc_cell": false,
   "toc_position": {},
   "toc_section_display": true,
   "toc_window_display": false
  },
  "varInspector": {
   "cols": {
    "lenName": 16,
    "lenType": 16,
    "lenVar": 40
   },
   "kernels_config": {
    "python": {
     "delete_cmd_postfix": "",
     "delete_cmd_prefix": "del ",
     "library": "var_list.py",
     "varRefreshCmd": "print(var_dic_list())"
    },
    "r": {
     "delete_cmd_postfix": ") ",
     "delete_cmd_prefix": "rm(",
     "library": "var_list.r",
     "varRefreshCmd": "cat(var_dic_list()) "
    }
   },
   "types_to_exclude": [
    "module",
    "function",
    "builtin_function_or_method",
    "instance",
    "_Feature"
   ],
   "window_display": false
  }
 },
 "nbformat": 4,
 "nbformat_minor": 2
}
